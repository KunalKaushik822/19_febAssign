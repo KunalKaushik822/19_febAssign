{
 "cells": [
  {
   "cell_type": "code",
   "execution_count": 1,
   "id": "5e4931dc-ac5e-4ede-9b13-7a3c53c80d14",
   "metadata": {},
   "outputs": [],
   "source": [
    "# Q1. What is Flask Framework? What is the advantages of Flask Framework?"
   ]
  },
  {
   "cell_type": "code",
   "execution_count": 2,
   "id": "09689636-ac1b-4953-bd1e-3d1fa5055a35",
   "metadata": {},
   "outputs": [],
   "source": [
    "# Flask Framework\n",
    "\n",
    "# Flask is a lightweight, web-based Python framework known for its simplicity and flexibility. It provides a core set of tools and functionalities that developers can leverage to build web applications. Unlike some comprehensive frameworks, Flask doesn't enforce a rigid structure or dictate application design choices. This allows developers to tailor their applications to specific needs while benefiting from pre-built components and established patterns.\n",
    "\n",
    "# # Advantages of Flask Framework:\n",
    "\n",
    "# Simplicity and Ease of Use:\n",
    "\n",
    "# Flask has a clean and minimalist design, making it easier to learn and understand, especially for beginners.\n",
    "# It avoids imposing heavy conventions, giving developers more control over the application's architecture.\n",
    "# Flexibility:\n",
    "\n",
    "# Flask is highly versatile and adaptable to diverse project requirements.\n",
    "# You can choose the tools and libraries you need for specific functionalities, promoting a modular approach.\n",
    "# Lightweight and Fast Performance:\n",
    "\n",
    "# Due to its minimal core, Flask boasts a small footprint and efficient resource utilization.\n",
    "# This translates to faster application startup times and potentially better performance, especially for smaller or simpler web applications.\n",
    "# Scalability:\n",
    "\n",
    "# Flask's modular design allows you to scale up or down based on the complexity of your application.\n",
    "# You can easily integrate additional libraries and frameworks as your application grows in functionality.\n",
    "# Extensibility:\n",
    "\n",
    "# Flask comes with a rich ecosystem of third-party extensions that provide various features and functionalities.\n",
    "# You can enhance your application with extensions for databases, authentication, object-relational mappers (ORMs), form validation, and more.\n",
    "# Testing Support:\n",
    "\n",
    "# Flask encourages good development practices by facilitating unit testing.\n",
    "# You can easily write unit tests to ensure the correctness of individual components, promoting code quality and maintainability.\n",
    "# Large and Active Community:\n",
    "\n",
    "# Flask has a vast and supportive community of developers, providing a wealth of resources, tutorials, and forums for assistance.\n",
    "# # If you encounter challenges, you'll likely find solutions or guidance from experienced users."
   ]
  },
  {
   "cell_type": "code",
   "execution_count": 7,
   "id": "65b1f704-3678-4868-aec4-1d572b10765c",
   "metadata": {},
   "outputs": [
    {
     "ename": "ModuleNotFoundError",
     "evalue": "No module named 'flask'",
     "output_type": "error",
     "traceback": [
      "\u001b[0;31m---------------------------------------------------------------------------\u001b[0m",
      "\u001b[0;31mModuleNotFoundError\u001b[0m                       Traceback (most recent call last)",
      "Cell \u001b[0;32mIn[7], line 4\u001b[0m\n\u001b[1;32m      1\u001b[0m \u001b[38;5;66;03m# Q2. Create a simple Flask application to display ‘Hello World!!’. Attach the screenshot of the output in\u001b[39;00m\n\u001b[1;32m      2\u001b[0m \u001b[38;5;66;03m# Jupyter Notebook.\u001b[39;00m\n\u001b[0;32m----> 4\u001b[0m \u001b[38;5;28;01mfrom\u001b[39;00m \u001b[38;5;21;01mflask\u001b[39;00m \u001b[38;5;28;01mimport\u001b[39;00m Flask\n\u001b[1;32m      6\u001b[0m app \u001b[38;5;241m=\u001b[39m Flask(\u001b[38;5;18m__name__\u001b[39m)\n\u001b[1;32m      8\u001b[0m \u001b[38;5;129m@app\u001b[39m\u001b[38;5;241m.\u001b[39mroute(\u001b[38;5;124m\"\u001b[39m\u001b[38;5;124m/\u001b[39m\u001b[38;5;124m\"\u001b[39m)\n\u001b[1;32m      9\u001b[0m \u001b[38;5;28;01mdef\u001b[39;00m \u001b[38;5;21mhello_world\u001b[39m():\n",
      "\u001b[0;31mModuleNotFoundError\u001b[0m: No module named 'flask'"
     ]
    }
   ],
   "source": [
    "# Q2. Create a simple Flask application to display ‘Hello World!!’. Attach the screenshot of the output in\n",
    "# Jupyter Notebook.\n",
    "\n",
    "from flask import Flask\n",
    "\n",
    "app = Flask(__name__)\n",
    "\n",
    "@app.route(\"/\")\n",
    "def hello_world():\n",
    "    return \"Hello World!!\"\n",
    "\n",
    "if __name__ == \"__main__\":\n",
    "    app.run(debug=True)\n"
   ]
  },
  {
   "cell_type": "code",
   "execution_count": 4,
   "id": "23f90284-ca72-4cc4-8b7d-efb98d7319fc",
   "metadata": {},
   "outputs": [],
   "source": [
    "# Q3. What is App routing in Flask? Why do we use app routes?"
   ]
  },
  {
   "cell_type": "code",
   "execution_count": 5,
   "id": "68f5c93b-2469-45f8-b633-2b31fa70e6bf",
   "metadata": {},
   "outputs": [],
   "source": [
    "# In Flask applications, app routing is a fundamental concept that defines how URLs map to specific functions within your application. It essentially determines which function gets executed when a user accesses a particular URL in their web browser. Here's a breakdown of app routing in Flask and its importance:\n",
    "\n",
    "# How it Works:\n",
    "\n",
    "# Route Definition: You use the @app.route() decorator to define a route for a specific URL path within your Flask application.\n",
    "# URL Mapping: When a user accesses a URL in their browser that matches a defined route, Flask identifies the corresponding function associated with that route.\n",
    "# Function Execution: Flask executes the function associated with the matching route, allowing you to define the logic or behavior for that particular URL.\n",
    "# Importance of App Routing:\n",
    "\n",
    "# Organization and Maintainability: App routing promotes a well-organized structure for your application. By associating specific URLs with dedicated functions, you improve code readability and maintainability.\n",
    "# Separation of Concerns: Routing allows you to separate URL handling logic from the actual application logic within your functions. This keeps your code more modular and easier to work with.\n",
    "# Flexibility: You can define diverse routes for different functionalities within your application. This enables you to create a user-friendly and intuitive user experience.\n",
    "# Control Over User Interactions: Routes give you precise control over how users interact with your application. You can define different functionalities for different URLs, tailoring the experience based on the accessed location."
   ]
  },
  {
   "cell_type": "code",
   "execution_count": 13,
   "id": "888079b9-b7e9-406d-a9ab-e136987d31e6",
   "metadata": {},
   "outputs": [],
   "source": [
    "# Q4.Create a “/welcome” route to display the welcome message “Welcome to ABC Corporation” and a “/”\n",
    "# route to show the following details:\n",
    "# Company Name: ABC Corporation\n",
    "# Location: India\n",
    "# Contact Detail: 999-999-9999"
   ]
  },
  {
   "cell_type": "code",
   "execution_count": 14,
   "id": "dbbcc309-1032-4b9e-8359-5303b828fadf",
   "metadata": {},
   "outputs": [
    {
     "ename": "ModuleNotFoundError",
     "evalue": "No module named 'flask'",
     "output_type": "error",
     "traceback": [
      "\u001b[0;31m---------------------------------------------------------------------------\u001b[0m",
      "\u001b[0;31mModuleNotFoundError\u001b[0m                       Traceback (most recent call last)",
      "Cell \u001b[0;32mIn[14], line 1\u001b[0m\n\u001b[0;32m----> 1\u001b[0m \u001b[38;5;28;01mfrom\u001b[39;00m \u001b[38;5;21;01mflask\u001b[39;00m \u001b[38;5;28;01mimport\u001b[39;00m Flask\n\u001b[1;32m      3\u001b[0m app \u001b[38;5;241m=\u001b[39m Flask(\u001b[38;5;18m__name__\u001b[39m)\n\u001b[1;32m      5\u001b[0m \u001b[38;5;129m@app\u001b[39m\u001b[38;5;241m.\u001b[39mroute(\u001b[38;5;124m\"\u001b[39m\u001b[38;5;124m/\u001b[39m\u001b[38;5;124m\"\u001b[39m)\n\u001b[1;32m      6\u001b[0m \u001b[38;5;28;01mdef\u001b[39;00m \u001b[38;5;21mhome\u001b[39m():\n",
      "\u001b[0;31mModuleNotFoundError\u001b[0m: No module named 'flask'"
     ]
    }
   ],
   "source": [
    "from flask import Flask\n",
    "\n",
    "app = Flask(__name__)\n",
    "\n",
    "@app.route(\"/\")\n",
    "def home():\n",
    "    \"\"\"Displays company details on the home page.\"\"\"\n",
    "    company_name = \"ABC Corporation\"\n",
    "    location = \"India\"\n",
    "    contact_details = \"999-999-9999\"\n",
    "    return f\"\"\"\n",
    "    <h1>Company Details</h1>\n",
    "    <p>Company Name: {company_name}</p>\n",
    "    <p>Location: {location}</p>\n",
    "    <p>Contact Details: {contact_details}</p>\n",
    "    \"\"\"\n",
    "\n",
    "@app.route(\"/welcome\")\n",
    "def welcome():\n",
    "    \"\"\"Displays a welcome message.\"\"\"\n",
    "    return \"<h1>Welcome to ABC Corporation</h1>\"\n",
    "\n",
    "if __name__ == \"__main__\":\n",
    "    app.run(debug=True)\n"
   ]
  },
  {
   "cell_type": "code",
   "execution_count": 15,
   "id": "b559118d-a21b-410b-af65-594f2ef351ad",
   "metadata": {},
   "outputs": [],
   "source": [
    "# Q5. What function is used in Flask for URL Building? Write a Python code to demonstrate the working of the\n",
    "# url_for() function."
   ]
  },
  {
   "cell_type": "code",
   "execution_count": 17,
   "id": "c9c83932-653e-4c2f-a0a5-ecca65c65127",
   "metadata": {},
   "outputs": [],
   "source": [
    "# The function used in Flask for URL building is url_for(). It takes the name of a defined route and optionally accepts arguments to be passed to that route's function. Here's a Python code demonstrating the working of url_for():\n",
    "\n",
    "# Python\n",
    "# from flask import Flask, url_for\n",
    "\n",
    "# app = Flask(__name__)\n",
    "\n",
    "# @app.route(\"/\")\n",
    "# def home():\n",
    "#     return \"<h1>Home Page</h1>\"\n",
    "\n",
    "# @app.route(\"/user/<username>\")\n",
    "# def profile(username):\n",
    "#     return f\"<h1>Welcome, {username}!</h1>\"\n",
    "\n",
    "# if __name__ == \"__main__\":\n",
    "#     app.run(debug=True)\n",
    "\n",
    "# # Demonstrate url_for()\n",
    "# print(url_for('home'))  # Output: '/' (root URL)\n",
    "# print(url_for('profile', username='john'))"
   ]
  },
  {
   "cell_type": "code",
   "execution_count": null,
   "id": "53802bb7-014f-49d9-81b3-5fd79d3ae4d0",
   "metadata": {},
   "outputs": [],
   "source": []
  }
 ],
 "metadata": {
  "kernelspec": {
   "display_name": "Python 3 (ipykernel)",
   "language": "python",
   "name": "python3"
  },
  "language_info": {
   "codemirror_mode": {
    "name": "ipython",
    "version": 3
   },
   "file_extension": ".py",
   "mimetype": "text/x-python",
   "name": "python",
   "nbconvert_exporter": "python",
   "pygments_lexer": "ipython3",
   "version": "3.10.8"
  }
 },
 "nbformat": 4,
 "nbformat_minor": 5
}
